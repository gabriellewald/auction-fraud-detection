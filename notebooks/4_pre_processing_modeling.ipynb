{
 "cells": [
  {
   "cell_type": "markdown",
   "id": "8e6f1f98",
   "metadata": {},
   "source": [
    "# \"Human or Robot\" \n",
    "## Predicting Auction Fraud\n",
    "\n",
    "On an auction website, human bidders are becoming increasingly frustrated with their inability to win auctions vs. their software-controlled counterparts. As a result, usage from the site's core customer base is plummeting. In order to rebuild customer happiness, the site owners need to eliminate computer generated bidding from their auctions.\n",
    "\n",
    "The goal of this project is to identify online auction bids that are placed by \"robots\", thus helping the site owners easily flag these users for removal from their site to prevent unfair auction activity.\n",
    "\n",
    "<img src=\"../images/robots-greeting.png\" width=\"500\">\n",
    "\n",
    "## PRE PROCESSING AND MODELING\n",
    "- Models to train\n",
    "- Evaluation\n",
    "- Conclusion"
   ]
  },
  {
   "cell_type": "code",
   "execution_count": null,
   "id": "497b3234",
   "metadata": {},
   "outputs": [],
   "source": [
    "# import packages"
   ]
  },
  {
   "cell_type": "code",
   "execution_count": null,
   "id": "77aa23b5",
   "metadata": {},
   "outputs": [],
   "source": [
    "# load df"
   ]
  },
  {
   "cell_type": "code",
   "execution_count": null,
   "id": "067ed45a",
   "metadata": {},
   "outputs": [],
   "source": [
    "# drop variables will not use"
   ]
  },
  {
   "cell_type": "code",
   "execution_count": null,
   "id": "6706843b",
   "metadata": {},
   "outputs": [],
   "source": [
    "# declare x and y"
   ]
  },
  {
   "cell_type": "code",
   "execution_count": null,
   "id": "a73b6f11",
   "metadata": {},
   "outputs": [],
   "source": [
    "# train_test_split"
   ]
  },
  {
   "cell_type": "code",
   "execution_count": null,
   "id": "10397e87",
   "metadata": {},
   "outputs": [],
   "source": [
    "# instantiate models"
   ]
  },
  {
   "cell_type": "markdown",
   "id": "44c75e29",
   "metadata": {},
   "source": [
    "## Evaluation and Conclusion"
   ]
  },
  {
   "cell_type": "code",
   "execution_count": null,
   "id": "40d4a48c",
   "metadata": {},
   "outputs": [],
   "source": []
  },
  {
   "cell_type": "code",
   "execution_count": null,
   "id": "79489fbd",
   "metadata": {},
   "outputs": [],
   "source": []
  },
  {
   "cell_type": "code",
   "execution_count": null,
   "id": "f28373e2",
   "metadata": {},
   "outputs": [],
   "source": []
  },
  {
   "cell_type": "markdown",
   "id": "0b0d1eca",
   "metadata": {},
   "source": [
    "-------"
   ]
  }
 ],
 "metadata": {
  "kernelspec": {
   "display_name": "Python 3",
   "language": "python",
   "name": "python3"
  },
  "language_info": {
   "codemirror_mode": {
    "name": "ipython",
    "version": 3
   },
   "file_extension": ".py",
   "mimetype": "text/x-python",
   "name": "python",
   "nbconvert_exporter": "python",
   "pygments_lexer": "ipython3",
   "version": "3.7.6"
  }
 },
 "nbformat": 4,
 "nbformat_minor": 5
}
