{
 "cells": [
  {
   "cell_type": "markdown",
   "id": "8e6f1f98",
   "metadata": {},
   "source": [
    "# \"Human or Robot\" \n",
    "## Predicting Auction Fraud\n",
    "\n",
    "On an auction website, human bidders are becoming increasingly frustrated with their inability to win auctions vs. their software-controlled counterparts. As a result, usage from the site's core customer base is plummeting. In order to rebuild customer happiness, the site owners need to eliminate computer generated bidding from their auctions.\n",
    "\n",
    "The goal of this project is to identify online auction bids that are placed by \"robots\", thus helping the site owners easily flag these users for removal from their site to prevent unfair auction activity.\n",
    "\n",
    "<img src=\"../images/robots-greeting.png\" width=\"500\">\n",
    "\n",
    "## PRE PROCESSING AND MODELING\n",
    "- Models to train\n",
    "    - Logistic Regression\n",
    "    - k-Nearest Neighbors\n",
    "    - Decision Trees\n",
    "    - Support Vector Machine\n",
    "    - Naive Bayes\n",
    "\n",
    "- Evaluation\n",
    "- Conclusion"
   ]
  },
  {
   "cell_type": "code",
   "execution_count": 1,
   "id": "497b3234",
   "metadata": {},
   "outputs": [],
   "source": [
    "# import packages\n",
    "import pandas as pd\n",
    "import numpy as np\n",
    "import seaborn as sns\n",
    "import matplotlib.pyplot as plt\n",
    "\n",
    "# Modeling\n",
    "from sklearn.model_selection import train_test_split, cross_validate, GridSearchCV, learning_curve"
   ]
  },
  {
   "cell_type": "code",
   "execution_count": 2,
   "id": "77aa23b5",
   "metadata": {},
   "outputs": [
    {
     "name": "stdout",
     "output_type": "stream",
     "text": [
      "<class 'pandas.core.frame.DataFrame'>\n",
      "RangeIndex: 1984 entries, 0 to 1983\n",
      "Data columns (total 26 columns):\n",
      " #   Column                Non-Null Count  Dtype  \n",
      "---  ------                --------------  -----  \n",
      " 0   outcome               1984 non-null   float64\n",
      " 1   bids_per_auction      1984 non-null   int64  \n",
      " 2   country_per_user      1984 non-null   int64  \n",
      " 3   device_per_user       1984 non-null   int64  \n",
      " 4   ip_bids_per_user      1984 non-null   float64\n",
      " 5   url_bids_per_user     1984 non-null   float64\n",
      " 6   bots_country          1984 non-null   float64\n",
      " 7   bots_device           1984 non-null   float64\n",
      " 8   bids_per_user         1984 non-null   int64  \n",
      " 9   url_per_user          1984 non-null   int64  \n",
      " 10  auction_per_user      1984 non-null   int64  \n",
      " 11  ip_per_user           1984 non-null   int64  \n",
      " 12  bids_per_device       1984 non-null   int64  \n",
      " 13  bids_per_coutry       1984 non-null   int64  \n",
      " 14  avg_bids_per_user     1984 non-null   float64\n",
      " 15  median_bids_per_user  1984 non-null   float64\n",
      " 16  auto parts            1984 non-null   int64  \n",
      " 17  books and music       1984 non-null   int64  \n",
      " 18  clothing              1984 non-null   int64  \n",
      " 19  computers             1984 non-null   int64  \n",
      " 20  furniture             1984 non-null   int64  \n",
      " 21  home goods            1984 non-null   int64  \n",
      " 22  jewelry               1984 non-null   int64  \n",
      " 23  mobile                1984 non-null   int64  \n",
      " 24  office equipment      1984 non-null   int64  \n",
      " 25  sporting goods        1984 non-null   int64  \n",
      "dtypes: float64(7), int64(19)\n",
      "memory usage: 403.1 KB\n"
     ]
    }
   ],
   "source": [
    "# load df\n",
    "df = pd.read_csv('../data/features-outcome-df')\n",
    "df.info()"
   ]
  },
  {
   "cell_type": "code",
   "execution_count": 3,
   "id": "62a5a883",
   "metadata": {},
   "outputs": [
    {
     "data": {
      "text/plain": [
       "Index(['outcome', 'bids_per_auction', 'country_per_user', 'device_per_user',\n",
       "       'ip_bids_per_user', 'url_bids_per_user', 'bots_country', 'bots_device',\n",
       "       'bids_per_user', 'url_per_user', 'auction_per_user', 'ip_per_user',\n",
       "       'bids_per_device', 'bids_per_coutry', 'avg_bids_per_user',\n",
       "       'median_bids_per_user', 'auto parts', 'books and music', 'clothing',\n",
       "       'computers', 'furniture', 'home goods', 'jewelry', 'mobile',\n",
       "       'office equipment', 'sporting goods'],\n",
       "      dtype='object')"
      ]
     },
     "execution_count": 3,
     "metadata": {},
     "output_type": "execute_result"
    }
   ],
   "source": [
    "df.columns"
   ]
  },
  {
   "cell_type": "markdown",
   "id": "06991fa3",
   "metadata": {},
   "source": [
    "### Test Train Split"
   ]
  },
  {
   "cell_type": "code",
   "execution_count": 4,
   "id": "6706843b",
   "metadata": {},
   "outputs": [],
   "source": [
    "# declare response variable Y\n",
    "y = df['outcome']\n",
    "\n",
    "# keep explanatory variables X\n",
    "X = df[['bids_per_auction', 'country_per_user', 'device_per_user',\n",
    "       'ip_bids_per_user', 'url_bids_per_user', 'bots_country', 'bots_device',\n",
    "       'bids_per_user', 'url_per_user', 'auction_per_user', 'ip_per_user',\n",
    "       'bids_per_device', 'bids_per_coutry', 'avg_bids_per_user',\n",
    "       'median_bids_per_user', 'auto parts', 'books and music', 'clothing',\n",
    "       'computers', 'furniture', 'home goods', 'jewelry', 'mobile',\n",
    "       'office equipment', 'sporting goods']]"
   ]
  },
  {
   "cell_type": "code",
   "execution_count": 5,
   "id": "a73b6f11",
   "metadata": {},
   "outputs": [
    {
     "name": "stdout",
     "output_type": "stream",
     "text": [
      "X_train:  (1587, 25) y_train:  (1587,) X_test : (397, 25) y_test:  (397,)\n"
     ]
    }
   ],
   "source": [
    "# train_test_split\n",
    "X_train, X_test, y_train, y_test = train_test_split(X, y, \n",
    "                                                    test_size = 0.20, random_state = 42)\n",
    "\n",
    "# Check the shape of the X train, y_train, X_test and y_test to make sure the proportions are right\n",
    "print('X_train: ', X_train.shape, 'y_train: ', y_train.shape, 'X_test :' ,X_test.shape,\n",
    "      'y_test: ', y_test.shape)"
   ]
  },
  {
   "cell_type": "code",
   "execution_count": 6,
   "id": "10397e87",
   "metadata": {},
   "outputs": [],
   "source": [
    "# instantiate models\n"
   ]
  },
  {
   "cell_type": "code",
   "execution_count": null,
   "id": "16585d59",
   "metadata": {},
   "outputs": [],
   "source": []
  },
  {
   "cell_type": "markdown",
   "id": "44c75e29",
   "metadata": {},
   "source": [
    "## Evaluation and Conclusion"
   ]
  },
  {
   "cell_type": "code",
   "execution_count": null,
   "id": "40d4a48c",
   "metadata": {},
   "outputs": [],
   "source": []
  },
  {
   "cell_type": "code",
   "execution_count": null,
   "id": "79489fbd",
   "metadata": {},
   "outputs": [],
   "source": []
  },
  {
   "cell_type": "code",
   "execution_count": null,
   "id": "f28373e2",
   "metadata": {},
   "outputs": [],
   "source": []
  },
  {
   "cell_type": "markdown",
   "id": "0b0d1eca",
   "metadata": {},
   "source": [
    "-------"
   ]
  }
 ],
 "metadata": {
  "kernelspec": {
   "display_name": "Python 3",
   "language": "python",
   "name": "python3"
  },
  "language_info": {
   "codemirror_mode": {
    "name": "ipython",
    "version": 3
   },
   "file_extension": ".py",
   "mimetype": "text/x-python",
   "name": "python",
   "nbconvert_exporter": "python",
   "pygments_lexer": "ipython3",
   "version": "3.7.6"
  }
 },
 "nbformat": 4,
 "nbformat_minor": 5
}
