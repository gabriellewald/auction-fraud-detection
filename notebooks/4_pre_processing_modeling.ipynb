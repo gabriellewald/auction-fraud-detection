{
 "cells": [
  {
   "cell_type": "markdown",
   "id": "8e6f1f98",
   "metadata": {},
   "source": [
    "# \"Human or Robot\" \n",
    "## Predicting Auction Fraud\n",
    "\n",
    "On an auction website, human bidders are becoming increasingly frustrated with their inability to win auctions vs. their software-controlled counterparts. As a result, usage from the site's core customer base is plummeting. In order to rebuild customer happiness, the site owners need to eliminate computer generated bidding from their auctions.\n",
    "\n",
    "The goal of this project is to identify online auction bids that are placed by \"robots\", thus helping the site owners easily flag these users for removal from their site to prevent unfair auction activity.\n",
    "\n",
    "<img src=\"../images/robots-greeting.png\" width=\"500\">\n",
    "\n",
    "## PRE PROCESSING AND MODELING\n",
    "- Models to train\n",
    "- Evaluation\n",
    "- Conclusion"
   ]
  },
  {
   "cell_type": "code",
   "execution_count": null,
   "id": "497b3234",
   "metadata": {},
   "outputs": [],
   "source": []
  }
 ],
 "metadata": {
  "kernelspec": {
   "display_name": "Python 3",
   "language": "python",
   "name": "python3"
  },
  "language_info": {
   "codemirror_mode": {
    "name": "ipython",
    "version": 3
   },
   "file_extension": ".py",
   "mimetype": "text/x-python",
   "name": "python",
   "nbconvert_exporter": "python",
   "pygments_lexer": "ipython3",
   "version": "3.7.6"
  }
 },
 "nbformat": 4,
 "nbformat_minor": 5
}
