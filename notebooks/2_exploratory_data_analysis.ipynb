{
 "cells": [
  {
   "cell_type": "markdown",
   "id": "8fa157b8",
   "metadata": {},
   "source": [
    "# \"Human or Robot\" \n",
    "## Predicting Auction Fraud\n",
    "\n",
    "On an auction website, human bidders are becoming increasingly frustrated with their inability to win auctions vs. their software-controlled counterparts. As a result, usage from the site's core customer base is plummeting. In order to rebuild customer happiness, the site owners need to eliminate computer generated bidding from their auctions.\n",
    "\n",
    "The goal is to identify online auction bids that are placed by \"robots\", helping the site owners easily flag these users for removal from their site to prevent unfair auction activity.\n",
    "\n",
    "\n",
    "<img src=\"../images/robots-greeting.png\" width=\"500\">\n",
    "\n",
    "## EXPLORATORY DATA ANALYSIS "
   ]
  },
  {
   "cell_type": "markdown",
   "id": "dca1ec74",
   "metadata": {},
   "source": [
    "## Initial hypothesis:\n",
    "1. Total number of bids: Robots might have significantly higher number of bids than humans.\n",
    "2. Number of bids per auction: Robots might have higher number of bids each auction.\n",
    "3. Response time: Robots might bid more often, so time between each bid will be shorter than for humans' bid.\n",
    "4. Distinct IPs: Robots might bid from more diverse IP addresses.\n",
    "5. Merchandise: Robots might bid more often on certain merchandises. "
   ]
  },
  {
   "cell_type": "code",
   "execution_count": 1,
   "id": "9736eb70",
   "metadata": {},
   "outputs": [],
   "source": [
    "# import packages\n",
    "import pandas as pd\n",
    "import numpy as np\n",
    "import seaborn as sns"
   ]
  },
  {
   "cell_type": "code",
   "execution_count": 2,
   "id": "31f60454",
   "metadata": {},
   "outputs": [
    {
     "data": {
      "text/html": [
       "<div>\n",
       "<style scoped>\n",
       "    .dataframe tbody tr th:only-of-type {\n",
       "        vertical-align: middle;\n",
       "    }\n",
       "\n",
       "    .dataframe tbody tr th {\n",
       "        vertical-align: top;\n",
       "    }\n",
       "\n",
       "    .dataframe thead th {\n",
       "        text-align: right;\n",
       "    }\n",
       "</style>\n",
       "<table border=\"1\" class=\"dataframe\">\n",
       "  <thead>\n",
       "    <tr style=\"text-align: right;\">\n",
       "      <th></th>\n",
       "      <th>bid_id</th>\n",
       "      <th>auction</th>\n",
       "      <th>merchandise</th>\n",
       "      <th>device</th>\n",
       "      <th>time</th>\n",
       "      <th>country</th>\n",
       "      <th>ip</th>\n",
       "      <th>url</th>\n",
       "      <th>bidder_id</th>\n",
       "      <th>payment_account</th>\n",
       "      <th>address</th>\n",
       "      <th>outcome</th>\n",
       "    </tr>\n",
       "  </thead>\n",
       "  <tbody>\n",
       "    <tr>\n",
       "      <th>0</th>\n",
       "      <td>85371.0</td>\n",
       "      <td>yitr4</td>\n",
       "      <td>home goods</td>\n",
       "      <td>phone35</td>\n",
       "      <td>9.759489e+15</td>\n",
       "      <td>ke</td>\n",
       "      <td>82.34.177.248</td>\n",
       "      <td>vasstdc27m7nks3</td>\n",
       "      <td>91a3c57b13234af24875c56fb7e2b2f4rb56a</td>\n",
       "      <td>a3d2de7675556553a5f08e4c88d2c228754av</td>\n",
       "      <td>a3d2de7675556553a5f08e4c88d2c228vt0u4</td>\n",
       "      <td>0.0</td>\n",
       "    </tr>\n",
       "    <tr>\n",
       "      <th>1</th>\n",
       "      <td>274487.0</td>\n",
       "      <td>btpyy</td>\n",
       "      <td>home goods</td>\n",
       "      <td>phone1004</td>\n",
       "      <td>9.760249e+15</td>\n",
       "      <td>zm</td>\n",
       "      <td>202.130.71.167</td>\n",
       "      <td>vasstdc27m7nks3</td>\n",
       "      <td>91a3c57b13234af24875c56fb7e2b2f4rb56a</td>\n",
       "      <td>a3d2de7675556553a5f08e4c88d2c228754av</td>\n",
       "      <td>a3d2de7675556553a5f08e4c88d2c228vt0u4</td>\n",
       "      <td>0.0</td>\n",
       "    </tr>\n",
       "    <tr>\n",
       "      <th>2</th>\n",
       "      <td>527436.0</td>\n",
       "      <td>kj2ko</td>\n",
       "      <td>home goods</td>\n",
       "      <td>phone4</td>\n",
       "      <td>9.762261e+15</td>\n",
       "      <td>ke</td>\n",
       "      <td>22.54.76.225</td>\n",
       "      <td>vasstdc27m7nks3</td>\n",
       "      <td>91a3c57b13234af24875c56fb7e2b2f4rb56a</td>\n",
       "      <td>a3d2de7675556553a5f08e4c88d2c228754av</td>\n",
       "      <td>a3d2de7675556553a5f08e4c88d2c228vt0u4</td>\n",
       "      <td>0.0</td>\n",
       "    </tr>\n",
       "    <tr>\n",
       "      <th>3</th>\n",
       "      <td>554135.0</td>\n",
       "      <td>1m5t8</td>\n",
       "      <td>home goods</td>\n",
       "      <td>phone4</td>\n",
       "      <td>9.762431e+15</td>\n",
       "      <td>ke</td>\n",
       "      <td>32.13.237.126</td>\n",
       "      <td>vasstdc27m7nks3</td>\n",
       "      <td>91a3c57b13234af24875c56fb7e2b2f4rb56a</td>\n",
       "      <td>a3d2de7675556553a5f08e4c88d2c228754av</td>\n",
       "      <td>a3d2de7675556553a5f08e4c88d2c228vt0u4</td>\n",
       "      <td>0.0</td>\n",
       "    </tr>\n",
       "    <tr>\n",
       "      <th>4</th>\n",
       "      <td>607628.0</td>\n",
       "      <td>btpyy</td>\n",
       "      <td>home goods</td>\n",
       "      <td>phone4</td>\n",
       "      <td>9.762789e+15</td>\n",
       "      <td>ke</td>\n",
       "      <td>202.236.188.240</td>\n",
       "      <td>vasstdc27m7nks3</td>\n",
       "      <td>91a3c57b13234af24875c56fb7e2b2f4rb56a</td>\n",
       "      <td>a3d2de7675556553a5f08e4c88d2c228754av</td>\n",
       "      <td>a3d2de7675556553a5f08e4c88d2c228vt0u4</td>\n",
       "      <td>0.0</td>\n",
       "    </tr>\n",
       "    <tr>\n",
       "      <th>...</th>\n",
       "      <td>...</td>\n",
       "      <td>...</td>\n",
       "      <td>...</td>\n",
       "      <td>...</td>\n",
       "      <td>...</td>\n",
       "      <td>...</td>\n",
       "      <td>...</td>\n",
       "      <td>...</td>\n",
       "      <td>...</td>\n",
       "      <td>...</td>\n",
       "      <td>...</td>\n",
       "      <td>...</td>\n",
       "    </tr>\n",
       "    <tr>\n",
       "      <th>3071219</th>\n",
       "      <td>609792.0</td>\n",
       "      <td>jefix</td>\n",
       "      <td>mobile</td>\n",
       "      <td>phone316</td>\n",
       "      <td>9.762802e+15</td>\n",
       "      <td>id</td>\n",
       "      <td>28.18.7.49</td>\n",
       "      <td>ar89au37swuzvzz</td>\n",
       "      <td>c806dbb2decba0ed3c4ff5e2e60a74c2wjvbl</td>\n",
       "      <td>a3d2de7675556553a5f08e4c88d2c22856leq</td>\n",
       "      <td>d02c2b288b8aabd79ff47118aff41a2dqwzwc</td>\n",
       "      <td>0.0</td>\n",
       "    </tr>\n",
       "    <tr>\n",
       "      <th>3071220</th>\n",
       "      <td>2297899.0</td>\n",
       "      <td>jefix</td>\n",
       "      <td>mobile</td>\n",
       "      <td>phone33</td>\n",
       "      <td>9.772601e+15</td>\n",
       "      <td>id</td>\n",
       "      <td>161.237.171.157</td>\n",
       "      <td>ar89au37swuzvzz</td>\n",
       "      <td>c806dbb2decba0ed3c4ff5e2e60a74c2wjvbl</td>\n",
       "      <td>a3d2de7675556553a5f08e4c88d2c22856leq</td>\n",
       "      <td>d02c2b288b8aabd79ff47118aff41a2dqwzwc</td>\n",
       "      <td>0.0</td>\n",
       "    </tr>\n",
       "    <tr>\n",
       "      <th>3071221</th>\n",
       "      <td>3400601.0</td>\n",
       "      <td>jqx39</td>\n",
       "      <td>office equipment</td>\n",
       "      <td>phone11</td>\n",
       "      <td>9.636754e+15</td>\n",
       "      <td>sa</td>\n",
       "      <td>54.212.21.87</td>\n",
       "      <td>cgb17jpn1ixq9hw</td>\n",
       "      <td>0381a69b7a061e9ace2798fd48f1f537mgq57</td>\n",
       "      <td>fd87037ce0304077079c749f420f0b4c54uo0</td>\n",
       "      <td>f030a221726fbcdfc4dc7dfd1b381a112hieq</td>\n",
       "      <td>0.0</td>\n",
       "    </tr>\n",
       "    <tr>\n",
       "      <th>3071222</th>\n",
       "      <td>2007255.0</td>\n",
       "      <td>ntjde</td>\n",
       "      <td>jewelry</td>\n",
       "      <td>phone59</td>\n",
       "      <td>9.770756e+15</td>\n",
       "      <td>ru</td>\n",
       "      <td>79.72.96.0</td>\n",
       "      <td>9ov8hm82p20sxlz</td>\n",
       "      <td>84a769adc98498f52debfe57b93a0789556f4</td>\n",
       "      <td>fbe0ce34d6546ebd9e4c63afc68b085byd2tf</td>\n",
       "      <td>a3d2de7675556553a5f08e4c88d2c228fib6p</td>\n",
       "      <td>0.0</td>\n",
       "    </tr>\n",
       "    <tr>\n",
       "      <th>3071223</th>\n",
       "      <td>2007533.0</td>\n",
       "      <td>ntjde</td>\n",
       "      <td>jewelry</td>\n",
       "      <td>phone59</td>\n",
       "      <td>9.770758e+15</td>\n",
       "      <td>ru</td>\n",
       "      <td>79.72.96.0</td>\n",
       "      <td>9ov8hm82p20sxlz</td>\n",
       "      <td>84a769adc98498f52debfe57b93a0789556f4</td>\n",
       "      <td>fbe0ce34d6546ebd9e4c63afc68b085byd2tf</td>\n",
       "      <td>a3d2de7675556553a5f08e4c88d2c228fib6p</td>\n",
       "      <td>0.0</td>\n",
       "    </tr>\n",
       "  </tbody>\n",
       "</table>\n",
       "<p>3071224 rows × 12 columns</p>\n",
       "</div>"
      ],
      "text/plain": [
       "            bid_id auction       merchandise     device          time country  \\\n",
       "0          85371.0   yitr4        home goods    phone35  9.759489e+15      ke   \n",
       "1         274487.0   btpyy        home goods  phone1004  9.760249e+15      zm   \n",
       "2         527436.0   kj2ko        home goods     phone4  9.762261e+15      ke   \n",
       "3         554135.0   1m5t8        home goods     phone4  9.762431e+15      ke   \n",
       "4         607628.0   btpyy        home goods     phone4  9.762789e+15      ke   \n",
       "...            ...     ...               ...        ...           ...     ...   \n",
       "3071219   609792.0   jefix            mobile   phone316  9.762802e+15      id   \n",
       "3071220  2297899.0   jefix            mobile    phone33  9.772601e+15      id   \n",
       "3071221  3400601.0   jqx39  office equipment    phone11  9.636754e+15      sa   \n",
       "3071222  2007255.0   ntjde           jewelry    phone59  9.770756e+15      ru   \n",
       "3071223  2007533.0   ntjde           jewelry    phone59  9.770758e+15      ru   \n",
       "\n",
       "                      ip              url  \\\n",
       "0          82.34.177.248  vasstdc27m7nks3   \n",
       "1         202.130.71.167  vasstdc27m7nks3   \n",
       "2           22.54.76.225  vasstdc27m7nks3   \n",
       "3          32.13.237.126  vasstdc27m7nks3   \n",
       "4        202.236.188.240  vasstdc27m7nks3   \n",
       "...                  ...              ...   \n",
       "3071219       28.18.7.49  ar89au37swuzvzz   \n",
       "3071220  161.237.171.157  ar89au37swuzvzz   \n",
       "3071221     54.212.21.87  cgb17jpn1ixq9hw   \n",
       "3071222       79.72.96.0  9ov8hm82p20sxlz   \n",
       "3071223       79.72.96.0  9ov8hm82p20sxlz   \n",
       "\n",
       "                                     bidder_id  \\\n",
       "0        91a3c57b13234af24875c56fb7e2b2f4rb56a   \n",
       "1        91a3c57b13234af24875c56fb7e2b2f4rb56a   \n",
       "2        91a3c57b13234af24875c56fb7e2b2f4rb56a   \n",
       "3        91a3c57b13234af24875c56fb7e2b2f4rb56a   \n",
       "4        91a3c57b13234af24875c56fb7e2b2f4rb56a   \n",
       "...                                        ...   \n",
       "3071219  c806dbb2decba0ed3c4ff5e2e60a74c2wjvbl   \n",
       "3071220  c806dbb2decba0ed3c4ff5e2e60a74c2wjvbl   \n",
       "3071221  0381a69b7a061e9ace2798fd48f1f537mgq57   \n",
       "3071222  84a769adc98498f52debfe57b93a0789556f4   \n",
       "3071223  84a769adc98498f52debfe57b93a0789556f4   \n",
       "\n",
       "                               payment_account  \\\n",
       "0        a3d2de7675556553a5f08e4c88d2c228754av   \n",
       "1        a3d2de7675556553a5f08e4c88d2c228754av   \n",
       "2        a3d2de7675556553a5f08e4c88d2c228754av   \n",
       "3        a3d2de7675556553a5f08e4c88d2c228754av   \n",
       "4        a3d2de7675556553a5f08e4c88d2c228754av   \n",
       "...                                        ...   \n",
       "3071219  a3d2de7675556553a5f08e4c88d2c22856leq   \n",
       "3071220  a3d2de7675556553a5f08e4c88d2c22856leq   \n",
       "3071221  fd87037ce0304077079c749f420f0b4c54uo0   \n",
       "3071222  fbe0ce34d6546ebd9e4c63afc68b085byd2tf   \n",
       "3071223  fbe0ce34d6546ebd9e4c63afc68b085byd2tf   \n",
       "\n",
       "                                       address  outcome  \n",
       "0        a3d2de7675556553a5f08e4c88d2c228vt0u4      0.0  \n",
       "1        a3d2de7675556553a5f08e4c88d2c228vt0u4      0.0  \n",
       "2        a3d2de7675556553a5f08e4c88d2c228vt0u4      0.0  \n",
       "3        a3d2de7675556553a5f08e4c88d2c228vt0u4      0.0  \n",
       "4        a3d2de7675556553a5f08e4c88d2c228vt0u4      0.0  \n",
       "...                                        ...      ...  \n",
       "3071219  d02c2b288b8aabd79ff47118aff41a2dqwzwc      0.0  \n",
       "3071220  d02c2b288b8aabd79ff47118aff41a2dqwzwc      0.0  \n",
       "3071221  f030a221726fbcdfc4dc7dfd1b381a112hieq      0.0  \n",
       "3071222  a3d2de7675556553a5f08e4c88d2c228fib6p      0.0  \n",
       "3071223  a3d2de7675556553a5f08e4c88d2c228fib6p      0.0  \n",
       "\n",
       "[3071224 rows x 12 columns]"
      ]
     },
     "execution_count": 2,
     "metadata": {},
     "output_type": "execute_result"
    }
   ],
   "source": [
    "# load dfs\n",
    "train = pd.read_csv('../data/train.csv')\n",
    "auction_df = pd.read_csv('../large_data/auction_df')\n",
    "auction_df"
   ]
  },
  {
   "cell_type": "code",
   "execution_count": 3,
   "id": "407a90a0",
   "metadata": {},
   "outputs": [
    {
     "data": {
      "text/plain": [
       "Index(['bid_id', 'auction', 'merchandise', 'device', 'time', 'country', 'ip',\n",
       "       'url', 'bidder_id', 'payment_account', 'address', 'outcome'],\n",
       "      dtype='object')"
      ]
     },
     "execution_count": 3,
     "metadata": {},
     "output_type": "execute_result"
    }
   ],
   "source": [
    "auction_df.columns"
   ]
  },
  {
   "cell_type": "markdown",
   "id": "6911e7f9",
   "metadata": {},
   "source": [
    "### Descriptive Statistics"
   ]
  },
  {
   "cell_type": "code",
   "execution_count": 4,
   "id": "44ebf2a9",
   "metadata": {},
   "outputs": [
    {
     "name": "stdout",
     "output_type": "stream",
     "text": [
      "Number of total bidders: 1,984\n",
      "Number of total bids: 3,071,224\n",
      "Number of devices: 5,729\n",
      "Number of IPs: 1,030,950\n",
      "Number of URLs: 663,873\n",
      "Number of merchandise categories: 10\n",
      "Number of countries: 199\n",
      "Number of auctions: 12,740\n"
     ]
    }
   ],
   "source": [
    "# total\n",
    "total_bidders = auction_df['bidder_id'].nunique()\n",
    "total_bids = auction_df['bid_id'].nunique()\n",
    "total_devices = auction_df['device'].nunique()\n",
    "total_ips = auction_df['ip'].nunique()\n",
    "total_urls = auction_df['url'].nunique()\n",
    "total_merchandise = auction_df['merchandise'].nunique()\n",
    "total_country = auction_df['country'].nunique()\n",
    "total_auction = auction_df['auction'].nunique()\n",
    "\n",
    "# print statements\n",
    "print(\"Number of total bidders: {:,}\".format(total_bidders))\n",
    "print(\"Number of total bids: {:,}\".format(total_bids))\n",
    "print(\"Number of devices: {:,}\".format(total_devices))\n",
    "print(\"Number of IPs: {:,}\".format(total_ips))\n",
    "print(\"Number of URLs: {:,}\".format(total_urls))\n",
    "print(\"Number of merchandise categories: {:,}\".format(total_merchandise))\n",
    "print(\"Number of countries: {:,}\".format(total_country))\n",
    "print(\"Number of auctions: {:,}\".format(total_auction))"
   ]
  },
  {
   "cell_type": "markdown",
   "id": "1adfdfcf",
   "metadata": {},
   "source": [
    "**Proportion of Fraudulent vs. Legitimate Bids**"
   ]
  },
  {
   "cell_type": "code",
   "execution_count": 5,
   "id": "3e4c3ac2",
   "metadata": {},
   "outputs": [
    {
     "name": "stdout",
     "output_type": "stream",
     "text": [
      "Proportion of legitimate bids: 86.57%\n",
      "Proportion of fraudulent bids: 13.43%\n"
     ]
    }
   ],
   "source": [
    "# proportions\n",
    "legitimate_bids = len(auction_df[auction_df['outcome'] == 0.0])\n",
    "fraudulent_bids = len(auction_df[auction_df['outcome'] == 1.0])\n",
    "\n",
    "legitimate = legitimate_bids/total_bids\n",
    "fraud = fraudulent_bids/total_bids\n",
    "\n",
    "# print\n",
    "print(\"Proportion of legitimate bids: {:.2%}\".format(legitimate))\n",
    "print(\"Proportion of fraudulent bids: {:.2%}\".format(fraud))"
   ]
  },
  {
   "cell_type": "code",
   "execution_count": 6,
   "id": "80c4151b",
   "metadata": {},
   "outputs": [
    {
     "data": {
      "image/png": "[encoded data removed]",
      "text/plain": [
       "<Figure size 720x576 with 1 Axes>"
      ]
     },
     "metadata": {},
     "output_type": "display_data"
    }
   ],
   "source": [
    "import matplotlib.pyplot as plt\n",
    "\n",
    "#add colors\n",
    "colors = ['darkseagreen', 'mediumseagreen']\n",
    "\n",
    "# graph legit vs. fraud bids\n",
    "_, ax = plt.subplots(figsize=(10, 8))\n",
    "\n",
    "# pie chart parameters\n",
    "pie_data = [legitimate, fraud]\n",
    "pie_labels = ('Legit', 'Fraud')\n",
    "pie_labels_explode_coefficients = (0, 0.175)\n",
    "\n",
    "# Show the chart\n",
    "ax.pie(pie_data, labels=pie_labels, autopct='%1.2f%%', colors=colors,\n",
    "       shadow=False, explode=pie_labels_explode_coefficients,  textprops={'fontsize': 16})\n",
    "ax.set_title(\"Proportion of Legitimate vs. Fradulent Bids\", fontsize=18)\n",
    "plt.axis('equal')\n",
    "plt.show()"
   ]
  },
  {
   "cell_type": "markdown",
   "id": "c5a60d21",
   "metadata": {},
   "source": [
    "**Proportion of Human vs. Robot Bidders**"
   ]
  },
  {
   "cell_type": "code",
   "execution_count": 7,
   "id": "dd9e5ce4",
   "metadata": {},
   "outputs": [
    {
     "name": "stdout",
     "output_type": "stream",
     "text": [
      "Proportion of human bidders: 94.88%\n",
      "Proportion of robot bidders: 5.12%\n"
     ]
    }
   ],
   "source": [
    "# total\n",
    "total_bidders = train['bidder_id'].nunique()\n",
    "\n",
    "# proportions\n",
    "human_bids = len(train[train['outcome'] == 0.0])\n",
    "robot_bids = len(train[train['outcome'] == 1.0])\n",
    "\n",
    "human = human_bids/total_bidders\n",
    "robot = robot_bids/total_bidders\n",
    "\n",
    "# print\n",
    "print(\"Proportion of human bidders: {:.2%}\".format(human))\n",
    "print(\"Proportion of robot bidders: {:.2%}\".format(robot))"
   ]
  },
  {
   "cell_type": "code",
   "execution_count": 8,
   "id": "a3f92ef4",
   "metadata": {},
   "outputs": [
    {
     "data": {
      "image/png": "[encoded data removed]",
      "text/plain": [
       "<Figure size 720x576 with 1 Axes>"
      ]
     },
     "metadata": {},
     "output_type": "display_data"
    }
   ],
   "source": [
    "# graph human vs. bot\n",
    "_, ax = plt.subplots(figsize=(10, 8))\n",
    "\n",
    "#add colors\n",
    "colors = ['cornflowerblue', 'deepskyblue']\n",
    "\n",
    "# pie chart parameters\n",
    "pie_data = [human, robot]\n",
    "pie_labels = ('Human', 'Robot')\n",
    "pie_labels_explode_coefficients = (0, 0.175)\n",
    "\n",
    "# Show the chart\n",
    "ax.pie(pie_data, labels=pie_labels, autopct='%1.2f%%', colors=colors,\n",
    "       shadow=False, explode=pie_labels_explode_coefficients,  textprops={'fontsize': 16})\n",
    "ax.set_title(\"Proportion of Human vs. Robot Bidders\", fontsize=18)\n",
    "plt.axis('equal')\n",
    "plt.show()"
   ]
  },
  {
   "cell_type": "markdown",
   "id": "d6af9c84",
   "metadata": {},
   "source": [
    "**First impressions:**\n",
    "1. The data is highly unbalanced from both the bidders and bid perspective.\n",
    "2. Humans represent 94.88% of the data, while only 5.12% are robots.\n",
    "3. Legitimate bids represent 86.52% of the data, while 13.43% are fraudulent bids.\n",
    "4. Proportionally robots are putting more bids than humans.\n",
    "5. There are 12,740 auctions represented in this dataset, and over 3 million bids.\n",
    "6. Bids come from 5,729 device models in 199 countries, 663,873 URLs and 1,030,950 IP addresses.\n",
    "7. There are 10 distinct merchandise categories."
   ]
  },
  {
   "cell_type": "code",
   "execution_count": 9,
   "id": "f24b410f",
   "metadata": {},
   "outputs": [
    {
     "data": {
      "text/plain": [
       "array(['home goods', 'office equipment', 'sporting goods',\n",
       "       'books and music', 'mobile', 'jewelry', 'computers', 'clothing',\n",
       "       'furniture', 'auto parts'], dtype=object)"
      ]
     },
     "execution_count": 9,
     "metadata": {},
     "output_type": "execute_result"
    }
   ],
   "source": [
    "# distinct merchandise\n",
    "auction_df['merchandise'].unique()"
   ]
  },
  {
   "cell_type": "markdown",
   "id": "bf6b9344",
   "metadata": {},
   "source": [
    "## Bids per Merchandise:\n",
    "- graph distribution of bids from human and bot per merchandise.\n",
    "- graph top 5 merchandise receiving bids from robots.\n",
    "- graph countries where most robots bid from."
   ]
  },
  {
   "cell_type": "markdown",
   "id": "f4fc00e1",
   "metadata": {},
   "source": [
    "### Merchandise Heatmap\n",
    "- Number of Human and Robot bids per Merchandise"
   ]
  },
  {
   "cell_type": "code",
   "execution_count": 10,
   "id": "10bb7138",
   "metadata": {},
   "outputs": [
    {
     "data": {
      "text/html": [
       "<style  type=\"text/css\" >\n",
       "#T_ad55c_row0_col0,#T_ad55c_row3_col0{\n",
       "            background-color:  #f5fafe;\n",
       "            color:  #000000;\n",
       "        }#T_ad55c_row0_col1,#T_ad55c_row2_col0,#T_ad55c_row2_col1,#T_ad55c_row4_col1{\n",
       "            background-color:  #f7fbff;\n",
       "            color:  #000000;\n",
       "        }#T_ad55c_row1_col0{\n",
       "            background-color:  #f5f9fe;\n",
       "            color:  #000000;\n",
       "        }#T_ad55c_row1_col1{\n",
       "            background-color:  #f6faff;\n",
       "            color:  #000000;\n",
       "        }#T_ad55c_row3_col1{\n",
       "            background-color:  #eef5fc;\n",
       "            color:  #000000;\n",
       "        }#T_ad55c_row4_col0{\n",
       "            background-color:  #e5eff9;\n",
       "            color:  #000000;\n",
       "        }#T_ad55c_row5_col0{\n",
       "            background-color:  #8dc1dd;\n",
       "            color:  #000000;\n",
       "        }#T_ad55c_row5_col1{\n",
       "            background-color:  #e7f1fa;\n",
       "            color:  #000000;\n",
       "        }#T_ad55c_row6_col0{\n",
       "            background-color:  #4d99ca;\n",
       "            color:  #000000;\n",
       "        }#T_ad55c_row6_col1{\n",
       "            background-color:  #d7e6f5;\n",
       "            color:  #000000;\n",
       "        }#T_ad55c_row7_col0{\n",
       "            background-color:  #63a8d3;\n",
       "            color:  #000000;\n",
       "        }#T_ad55c_row7_col1{\n",
       "            background-color:  #7db8da;\n",
       "            color:  #000000;\n",
       "        }#T_ad55c_row8_col0{\n",
       "            background-color:  #d6e5f4;\n",
       "            color:  #000000;\n",
       "        }#T_ad55c_row8_col1{\n",
       "            background-color:  #f1f7fd;\n",
       "            color:  #000000;\n",
       "        }#T_ad55c_row9_col0,#T_ad55c_row9_col1{\n",
       "            background-color:  #08306b;\n",
       "            color:  #f1f1f1;\n",
       "        }</style><table id=\"T_ad55c_\" ><thead>    <tr>        <th class=\"index_name level0\" >outcome</th>        <th class=\"col_heading level0 col0\" >0.0</th>        <th class=\"col_heading level0 col1\" >1.0</th>    </tr>    <tr>        <th class=\"index_name level0\" >merchandise</th>        <th class=\"blank\" ></th>        <th class=\"blank\" ></th>    </tr></thead><tbody>\n",
       "                <tr>\n",
       "                        <th id=\"T_ad55c_level0_row0\" class=\"row_heading level0 row0\" >auto parts</th>\n",
       "                        <td id=\"T_ad55c_row0_col0\" class=\"data row0 col0\" >9757</td>\n",
       "                        <td id=\"T_ad55c_row0_col1\" class=\"data row0 col1\" >0</td>\n",
       "            </tr>\n",
       "            <tr>\n",
       "                        <th id=\"T_ad55c_level0_row1\" class=\"row_heading level0 row1\" >books and music</th>\n",
       "                        <td id=\"T_ad55c_row1_col0\" class=\"data row1 col0\" >13733</td>\n",
       "                        <td id=\"T_ad55c_row1_col1\" class=\"data row1 col1\" >1509</td>\n",
       "            </tr>\n",
       "            <tr>\n",
       "                        <th id=\"T_ad55c_level0_row2\" class=\"row_heading level0 row2\" >clothing</th>\n",
       "                        <td id=\"T_ad55c_row2_col0\" class=\"data row2 col0\" >476</td>\n",
       "                        <td id=\"T_ad55c_row2_col1\" class=\"data row2 col1\" >0</td>\n",
       "            </tr>\n",
       "            <tr>\n",
       "                        <th id=\"T_ad55c_level0_row3\" class=\"row_heading level0 row3\" >computers</th>\n",
       "                        <td id=\"T_ad55c_row3_col0\" class=\"data row3 col0\" >9733</td>\n",
       "                        <td id=\"T_ad55c_row3_col1\" class=\"data row3 col1\" >11667</td>\n",
       "            </tr>\n",
       "            <tr>\n",
       "                        <th id=\"T_ad55c_level0_row4\" class=\"row_heading level0 row4\" >furniture</th>\n",
       "                        <td id=\"T_ad55c_row4_col0\" class=\"data row4 col0\" >87807</td>\n",
       "                        <td id=\"T_ad55c_row4_col1\" class=\"data row4 col1\" >0</td>\n",
       "            </tr>\n",
       "            <tr>\n",
       "                        <th id=\"T_ad55c_level0_row5\" class=\"row_heading level0 row5\" >home goods</th>\n",
       "                        <td id=\"T_ad55c_row5_col0\" class=\"data row5 col0\" >389249</td>\n",
       "                        <td id=\"T_ad55c_row5_col1\" class=\"data row5 col1\" >18708</td>\n",
       "            </tr>\n",
       "            <tr>\n",
       "                        <th id=\"T_ad55c_level0_row6\" class=\"row_heading level0 row6\" >jewelry</th>\n",
       "                        <td id=\"T_ad55c_row6_col0\" class=\"data row6 col0\" >555634</td>\n",
       "                        <td id=\"T_ad55c_row6_col1\" class=\"data row6 col1\" >37101</td>\n",
       "            </tr>\n",
       "            <tr>\n",
       "                        <th id=\"T_ad55c_level0_row7\" class=\"row_heading level0 row7\" >mobile</th>\n",
       "                        <td id=\"T_ad55c_row7_col0\" class=\"data row7 col0\" >492350</td>\n",
       "                        <td id=\"T_ad55c_row7_col1\" class=\"data row7 col1\" >105138</td>\n",
       "            </tr>\n",
       "            <tr>\n",
       "                        <th id=\"T_ad55c_level0_row8\" class=\"row_heading level0 row8\" >office equipment</th>\n",
       "                        <td id=\"T_ad55c_row8_col0\" class=\"data row8 col0\" >160671</td>\n",
       "                        <td id=\"T_ad55c_row8_col1\" class=\"data row8 col1\" >7967</td>\n",
       "            </tr>\n",
       "            <tr>\n",
       "                        <th id=\"T_ad55c_level0_row9\" class=\"row_heading level0 row9\" >sporting goods</th>\n",
       "                        <td id=\"T_ad55c_row9_col0\" class=\"data row9 col0\" >939398</td>\n",
       "                        <td id=\"T_ad55c_row9_col1\" class=\"data row9 col1\" >230326</td>\n",
       "            </tr>\n",
       "    </tbody></table>"
      ],
      "text/plain": [
       "<pandas.io.formats.style.Styler at 0x7fc21c994510>"
      ]
     },
     "execution_count": 10,
     "metadata": {},
     "output_type": "execute_result"
    }
   ],
   "source": [
    "merch_df = auction_df[['merchandise', 'outcome']]\n",
    "\n",
    "# Creating a pivot table with merchandise as index, outcome as columns and count of outcome as values \n",
    "merch_human_bot = merch_df.pivot_table(values='outcome', index='merchandise', columns='outcome', fill_value=0, \n",
    "                         aggfunc=lambda x: len(x))\n",
    "\n",
    "# Passing the pivot table to heatmap for visualization\n",
    "merch_human_bot.style.background_gradient(cmap ='Blues', axis=0)"
   ]
  },
  {
   "cell_type": "markdown",
   "id": "4d4fce0f",
   "metadata": {},
   "source": [
    "**Take away:**\n",
    "1. Robots bid heavily on sporting goods and mobile, followed by jewelry, and home goods.\n",
    "2. Robots did NOT bid on auto parts, clothing, and furniture.\n",
    "3. Humans have bid on all available categories. They bid heavily on sporting goods (like the robots), jewelry, mobile (like the robots), and home goods."
   ]
  },
  {
   "cell_type": "code",
   "execution_count": 11,
   "id": "4e6765e7",
   "metadata": {},
   "outputs": [
    {
     "data": {
      "text/plain": [
       "Text(0, 0.5, 'Frequency')"
      ]
     },
     "execution_count": 11,
     "metadata": {},
     "output_type": "execute_result"
    },
    {
     "data": {
      "image/png": "[encoded data removed]",
      "text/plain": [
       "<Figure size 864x576 with 1 Axes>"
      ]
     },
     "metadata": {
      "needs_background": "light"
     },
     "output_type": "display_data"
    }
   ],
   "source": [
    "# merchandise robot bids\n",
    "merch_robots = merch_df[merch_df['outcome'] == 1.0]\n",
    "\n",
    "order = ['sporting goods', 'mobile', 'jewelry', 'home goods', 'computers', 'office equipment', 'books and music']\n",
    "\n",
    "f, ax = plt.subplots(figsize=(12, 8))\n",
    "ax = sns.countplot(x=\"merchandise\",\n",
    "                   data=merch_robots, order=order, palette=\"viridis\", edgecolor=\"k\")\n",
    "ax.set_title(\"Robots Favorite Merchandise\", fontsize=18)\n",
    "ax.set_xticklabels(ax.get_xticklabels(), rotation=45, horizontalalignment='right')\n",
    "ax.set_xlabel(\"Merchandise Category\", fontsize=16)\n",
    "ax.set_ylabel(\"Frequency\", fontsize=16)"
   ]
  },
  {
   "cell_type": "code",
   "execution_count": 12,
   "id": "3f4db814",
   "metadata": {},
   "outputs": [
    {
     "data": {
      "text/plain": [
       "Text(0.5, 0, 'Frequency')"
      ]
     },
     "execution_count": 12,
     "metadata": {},
     "output_type": "execute_result"
    },
    {
     "data": {
      "image/png": "[encoded data removed]",
      "text/plain": [
       "<Figure size 864x576 with 1 Axes>"
      ]
     },
     "metadata": {
      "needs_background": "light"
     },
     "output_type": "display_data"
    }
   ],
   "source": [
    "order = [ 'computers', 'books and music', 'office equipment', 'home goods', 'mobile', 'jewelry', 'sporting goods']\n",
    "\n",
    "\n",
    "f, ax = plt.subplots(figsize=(12, 8))\n",
    "ax = sns.countplot(y=\"merchandise\", hue=\"outcome\", order=order,\n",
    "                   data=auction_df, palette=\"viridis\", edgecolor=\"k\")\n",
    "ax.set_title(\"Human and Robot Bids\", fontsize=18)\n",
    "ax.set_ylabel(\"Merchandise Category\", fontsize=16)\n",
    "ax.set_xlabel(\"Frequency\", fontsize=16)"
   ]
  },
  {
   "cell_type": "markdown",
   "id": "9ab76d3e",
   "metadata": {},
   "source": [
    "## FEATURE ENGINEERING"
   ]
  },
  {
   "cell_type": "code",
   "execution_count": 13,
   "id": "2650bd20",
   "metadata": {},
   "outputs": [],
   "source": [
    "# coming next"
   ]
  },
  {
   "cell_type": "code",
   "execution_count": null,
   "id": "fb5f063e",
   "metadata": {},
   "outputs": [],
   "source": []
  },
  {
   "cell_type": "markdown",
   "id": "4b0317e4",
   "metadata": {},
   "source": [
    "------"
   ]
  }
 ],
 "metadata": {
  "kernelspec": {
   "display_name": "Python 3",
   "language": "python",
   "name": "python3"
  },
  "language_info": {
   "codemirror_mode": {
    "name": "ipython",
    "version": 3
   },
   "file_extension": ".py",
   "mimetype": "text/x-python",
   "name": "python",
   "nbconvert_exporter": "python",
   "pygments_lexer": "ipython3",
   "version": "3.7.6"
  }
 },
 "nbformat": 4,
 "nbformat_minor": 5
}
